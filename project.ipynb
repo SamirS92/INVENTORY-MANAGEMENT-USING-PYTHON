{
  "nbformat": 4,
  "nbformat_minor": 0,
  "metadata": {
    "interpreter": {
      "hash": "b3ba2566441a7c06988d0923437866b63cedc61552a5af99d1f4fb67d367b25f"
    },
    "kernelspec": {
      "display_name": "Python 3",
      "language": "python",
      "name": "python3"
    },
    "language_info": {
      "codemirror_mode": {
        "name": "ipython",
        "version": 3
      },
      "file_extension": ".py",
      "mimetype": "text/x-python",
      "name": "python",
      "nbconvert_exporter": "python",
      "pygments_lexer": "ipython3",
      "version": "3.8.5"
    },
    "colab": {
      "name": "project.ipynb",
      "provenance": [],
      "collapsed_sections": []
    }
  },
  "cells": [
    {
      "cell_type": "markdown",
      "metadata": {
        "id": "j77AtjdOe6Pz"
      },
      "source": [
        "# importing file and some operations"
      ]
    },
    {
      "cell_type": "code",
      "metadata": {
        "id": "Mskpt0LJe6WP"
      },
      "source": [
        "import json\n",
        "\n",
        "fd = open(\"kirana.json\",'r')\n",
        "r = fd.read()\n",
        "fd.close()\n",
        "\n",
        "kirana = json.loads(r)"
      ],
      "execution_count": 28,
      "outputs": []
    },
    {
      "cell_type": "code",
      "metadata": {
        "colab": {
          "base_uri": "https://localhost:8080/"
        },
        "id": "ATuHZpGae6WR",
        "outputId": "3f7daa07-b4da-438c-a37f-317795978045"
      },
      "source": [
        "kirana"
      ],
      "execution_count": 29,
      "outputs": [
        {
          "output_type": "execute_result",
          "data": {
            "text/plain": [
              "{'111': {'expiry': '01-12-2022',\n",
              "  'manufacturing date': '09-2-2020',\n",
              "  'name': 'ParleG',\n",
              "  'price': 5,\n",
              "  'quantity': 25},\n",
              " '112': {' manufacturing date ': '02-03-2020',\n",
              "  'expiry': '12-12-2022',\n",
              "  'name': 'Lays',\n",
              "  'price': 10,\n",
              "  'quantity': 50},\n",
              " '113': {' manufacturing date ': '09-08-2019',\n",
              "  'expiry': '13-12-2022',\n",
              "  'name': 'maggie',\n",
              "  'price': 20,\n",
              "  'quantity': 60},\n",
              " '114': {' manufacturing date': '12-10-2020',\n",
              "  'expiry': '22-12-2022',\n",
              "  'name': 'soup',\n",
              "  'price': 10,\n",
              "  'quantity': 100},\n",
              " '115': {'manufacturing_date': 9052021,\n",
              "  'name': 'parleg',\n",
              "  'price': 5,\n",
              "  'quantity': 5},\n",
              " '116': {'expiry': '12-12-2022',\n",
              "  'manufacturing date ': '09-08-2020',\n",
              "  'name': 'soyabean',\n",
              "  'price': 10,\n",
              "  'quantity': 30},\n",
              " '117': {' manufacturing date ': '03-04-2020',\n",
              "  'expiry': '17-12-2022',\n",
              "  'name': 'sprite',\n",
              "  'price': 20,\n",
              "  'quantity': 20},\n",
              " '118': {' manufacturing date ': '02-07-2020',\n",
              "  'expiry': '27-12-2022',\n",
              "  'name': 'lassi',\n",
              "  'price': 12,\n",
              "  'quantity': 30},\n",
              " '119': {' manufacturing date ': '09-08-2019',\n",
              "  'expiry': '23-12-2022',\n",
              "  'name': 'dairymilk',\n",
              "  'price': 10,\n",
              "  'quantity': 50},\n",
              " '120': {' manufacturing date': '02-02-2019',\n",
              "  'expiry': '23-12-2022',\n",
              "  'name': 'red label',\n",
              "  'price': 20,\n",
              "  'quantity': 25},\n",
              " '121': {' manufacturing date ': '09-05-2019',\n",
              "  'expiry': '28-12-2022',\n",
              "  'name': 'santoor',\n",
              "  'price': 50,\n",
              "  'quantity': 20},\n",
              " '122': {' manufacturing date': '09-08-2019',\n",
              "  'expiry': '11-12-2022',\n",
              "  'name': 'badam shake',\n",
              "  'price': 20,\n",
              "  'quantity': 40},\n",
              " '123': {' manufacturing date ': '01-02-2018',\n",
              "  'expiry': '08-12-2022',\n",
              "  'name': 'shampoo',\n",
              "  'price': 15,\n",
              "  'quantity': 18},\n",
              " '124': {' manufacturing date ': '09-08-2021',\n",
              "  'expiry': '10-08-202',\n",
              "  'name': 'milk',\n",
              "  'price': 20,\n",
              "  'quantity': 10},\n",
              " '125': {' manufacturing date ': '01-02-2019',\n",
              "  'expiry': '04-12-2022',\n",
              "  'name': 'mayonnaise',\n",
              "  'price': 35,\n",
              "  'quantity': 40},\n",
              " '126': {' manufacturing date ': '02-04-2021',\n",
              "  'expiry': '17-12-2022',\n",
              "  'name': 'tomato sauce',\n",
              "  'price': 15,\n",
              "  'quantity': 17},\n",
              " '127': {'expiry': '15-12-2022',\n",
              "  'manufacturing date': '01-02-2021',\n",
              "  'name': 'hair conditioner',\n",
              "  'price': 60,\n",
              "  'quantity': 30},\n",
              " '128': {'expiry': '14-12-2022',\n",
              "  'manufacturing date': '02-02-2020',\n",
              "  'name': 'hairoil',\n",
              "  'price': 20,\n",
              "  'quantity': 9},\n",
              " '129': {'expiry': '21-12-2022',\n",
              "  'manufacturing date': '09-09-2020',\n",
              "  'name': 'eveready cell',\n",
              "  'price': 30,\n",
              "  'quantity': 12},\n",
              " '130': {'expiry': '08-12-2022',\n",
              "  'manufacturing date': '09-03-2020',\n",
              "  'name': 'goodday biscuit',\n",
              "  'price': 15,\n",
              "  'quantity': 12},\n",
              " '131': {'expiry': '19-12-2022',\n",
              "  'manufacturing date': '09-08-2021',\n",
              "  'name': 'frooti',\n",
              "  'price': 10,\n",
              "  'quantity': 16},\n",
              " '132': {'manufacturing_date': '09-08-2020',\n",
              "  'name': 'parle g',\n",
              "  'price': 5,\n",
              "  'quantity': 7},\n",
              " '133': {'expiry': '30-12-2022',\n",
              "  'manufacturing date': '02-04-2020',\n",
              "  'name': 'mango pickle',\n",
              "  'price': 20,\n",
              "  'quantity': 5},\n",
              " '134': {' manufacturing date ': '01-02-2020',\n",
              "  'expiry': '31-12-2022',\n",
              "  'name': 'lolipop',\n",
              "  'price': 2,\n",
              "  'quantity': 100},\n",
              " '135': {' manufacturing date ': '01-02-2019',\n",
              "  'expiry': '23-12-2022',\n",
              "  'name': 'cake',\n",
              "  'price': 10,\n",
              "  'quantity': 12},\n",
              " '136': {' manufacturing date ': '01-02-2020',\n",
              "  'expiry': '28-12-2022',\n",
              "  'name': 'thumsup',\n",
              "  'price': 30,\n",
              "  'quantity': 8},\n",
              " '137': {'expiry': '27-12-2022',\n",
              "  'manufacturing date': '09-08-2021',\n",
              "  'name': 'gems',\n",
              "  'price': 5,\n",
              "  'quantity': 10},\n",
              " '138': {' manufacturing date ': '01-02-2020',\n",
              "  'expiry': '19-12-2022',\n",
              "  'name': 'coffee',\n",
              "  'price': 10,\n",
              "  'quantity': 20},\n",
              " '139': {' manufacturing date ': '09-04-2020',\n",
              "  'expiry': '20-12-2022',\n",
              "  'name': 'tea',\n",
              "  'price': 10,\n",
              "  'quantity': 40},\n",
              " '140': {' manufacturing date ': '09-08-2020',\n",
              "  'expiry': '01-12-2022',\n",
              "  'name': 'soanpapdi',\n",
              "  'price': 30,\n",
              "  'quantity': 4}}"
            ]
          },
          "metadata": {},
          "execution_count": 29
        }
      ]
    },
    {
      "cell_type": "markdown",
      "metadata": {
        "id": "Yw3T5Q65e6We"
      },
      "source": [
        "# Buy"
      ]
    },
    {
      "cell_type": "code",
      "metadata": {
        "colab": {
          "base_uri": "https://localhost:8080/"
        },
        "id": "YCmmJOCKe6Wi",
        "outputId": "99b5877c-0011-42a4-ef13-284364d46d87"
      },
      "source": [
        "ui_prod  = str(input(\"Enter the product_Id: \"))\n",
        "ui_quant = int(input(\"Enter the quantity: \"))\n",
        "\n",
        "print(\"Product: \", kirana[ui_prod] ['name'])\n",
        "print(\"Price: \", kirana[ui_prod]['price'])\n",
        "print(\"manufacturing Date\", kirana[ui_prod]['manufacturing date'])\n",
        "print(\"quantity: \", kirana[ui_prod]['quantity'] )\n",
        "print(\"billing amount: \", kirana[ui_prod]['price'] * ui_quant)\n",
        "\n",
        "kirana[ui_prod]['quantity'] = kirana[ui_prod]['quantity'] - ui_quant"
      ],
      "execution_count": null,
      "outputs": [
        {
          "output_type": "stream",
          "name": "stdout",
          "text": [
            "Enter the product_Id: 111\n",
            "Enter the quantity: 3\n",
            "Product:  ParleG\n",
            "Price:  5\n",
            "manufacturing Date 09-2-2020\n",
            "quantity:  28\n",
            "billing amount:  15\n"
          ]
        }
      ]
    },
    {
      "cell_type": "code",
      "metadata": {
        "id": "eWlLWvl-e6Wl"
      },
      "source": [
        "js = json.dumps(kirana)\n",
        "\n",
        "fd = open(\"kirana.json\",'w')\n",
        "fd.write(js)\n",
        "fd.close()"
      ],
      "execution_count": null,
      "outputs": []
    },
    {
      "cell_type": "markdown",
      "metadata": {
        "id": "hjkqAQENe6Wm"
      },
      "source": [
        "# Sale"
      ]
    },
    {
      "cell_type": "code",
      "metadata": {
        "colab": {
          "base_uri": "https://localhost:8080/"
        },
        "id": "69tki2i2e6Wt",
        "outputId": "5de2593b-23f9-44b8-bddc-6ab9b54b43e6"
      },
      "source": [
        "{'name' : ui_prod, 'quantity' : ui_quant, 'amount': kirana[ui_prod]['price'] * ui_quant}"
      ],
      "execution_count": null,
      "outputs": [
        {
          "output_type": "execute_result",
          "data": {
            "text/plain": [
              "{'amount': 15, 'name': '111', 'quantity': 3}"
            ]
          },
          "metadata": {},
          "execution_count": 12
        }
      ]
    },
    {
      "cell_type": "code",
      "metadata": {
        "id": "XfGRAHdBe6Wx"
      },
      "source": [
        "sales = {1 : {'name' : ui_prod, 'quantity' : ui_quant, 'amount': kirana[ui_prod]['price'] * ui_quant},\n",
        "         2 : {'name' : ui_prod, 'quantity' : ui_quant, 'amount': kirana[ui_prod]['price'] * ui_quant},\n",
        "         3 : {'name' : ui_prod, 'quantity' : ui_quant, 'amount': kirana[ui_prod]['price'] * ui_quant}}"
      ],
      "execution_count": null,
      "outputs": []
    },
    {
      "cell_type": "code",
      "metadata": {
        "id": "Q9ugT52xe6W0"
      },
      "source": [
        "sale = json.dumps(sales)"
      ],
      "execution_count": null,
      "outputs": []
    },
    {
      "cell_type": "code",
      "metadata": {
        "colab": {
          "base_uri": "https://localhost:8080/",
          "height": 52
        },
        "id": "YoJawxO6e6W3",
        "outputId": "dd155eff-515b-4a65-ff4f-05076e2767b1"
      },
      "source": [
        "sale"
      ],
      "execution_count": null,
      "outputs": [
        {
          "output_type": "execute_result",
          "data": {
            "application/vnd.google.colaboratory.intrinsic+json": {
              "type": "string"
            },
            "text/plain": [
              "'{\"1\": {\"name\": \"111\", \"quantity\": 3, \"amount\": 15}, \"2\": {\"name\": \"111\", \"quantity\": 3, \"amount\": 15}, \"3\": {\"name\": \"111\", \"quantity\": 3, \"amount\": 15}}'"
            ]
          },
          "metadata": {},
          "execution_count": 16
        }
      ]
    },
    {
      "cell_type": "markdown",
      "metadata": {
        "id": "i5RYWavWe6Xh"
      },
      "source": [
        "# Add New Item into kirana"
      ]
    },
    {
      "cell_type": "code",
      "metadata": {
        "id": "T_TcPLGHe6Xj",
        "colab": {
          "base_uri": "https://localhost:8080/"
        },
        "outputId": "0bf9e08e-2293-4313-ede8-d57efe5b0d68"
      },
      "source": [
        "prod_id = str(input(\"Enter product id:\"))\n",
        "name = str(input(\"Enter name:\"))\n",
        "price = int(input(\"Enter price:\"))\n",
        "quantity = int(input(\"Enter quantity:\"))\n",
        "manufacturing_date = str(input(\"Enter manufacturing date:\"))\n",
        "\n",
        "kirana[prod_id] = {'name': name, 'price': price, 'quantity': quantity, 'manufacturing_date': manufacturing_date}\n",
        "\n",
        "js = json.dumps(kirana)\n",
        "\n",
        "fd = open(\"kirana.json\",'w')\n",
        "fd.write(js)\n",
        "fd.close()"
      ],
      "execution_count": null,
      "outputs": [
        {
          "name": "stdout",
          "output_type": "stream",
          "text": [
            "Enter product id:132\n",
            "Enter name:parle g\n",
            "Enter price:5\n",
            "Enter quantity:7\n",
            "Enter manufacturing date:09-08-2020\n"
          ]
        }
      ]
    },
    {
      "cell_type": "code",
      "metadata": {
        "id": "CewlRvaBe6Xo",
        "colab": {
          "base_uri": "https://localhost:8080/"
        },
        "outputId": "343e4060-a3dc-4e6d-e12a-8b7655136a75"
      },
      "source": [
        "kirana"
      ],
      "execution_count": null,
      "outputs": [
        {
          "output_type": "execute_result",
          "data": {
            "text/plain": [
              "{'111': {'expiry': '01-12-2022',\n",
              "  'manufacturing date': '09-2-2020',\n",
              "  'name': 'ParleG',\n",
              "  'price': 5,\n",
              "  'quantity': 25},\n",
              " '112': {' manufacturing date ': '02-03-2020',\n",
              "  'expiry': '12-12-2022',\n",
              "  'name': 'Lays',\n",
              "  'price': 10,\n",
              "  'quantity': 50},\n",
              " '113': {' manufacturing date ': '09-08-2019',\n",
              "  'expiry': '13-12-2022',\n",
              "  'name': 'maggie',\n",
              "  'price': 20,\n",
              "  'quantity': 60},\n",
              " '114': {' manufacturing date': '12-10-2020',\n",
              "  'expiry': '22-12-2022',\n",
              "  'name': 'soup',\n",
              "  'price': 10,\n",
              "  'quantity': 100},\n",
              " '115': {'manufacturing_date': 9052021,\n",
              "  'name': 'parleg',\n",
              "  'price': 5,\n",
              "  'quantity': 5},\n",
              " '116': {'expiry': '12-12-2022',\n",
              "  'manufacturing date ': '09-08-2020',\n",
              "  'name': 'soyabean',\n",
              "  'price': 10,\n",
              "  'quantity': 30},\n",
              " '117': {' manufacturing date ': '03-04-2020',\n",
              "  'expiry': '17-12-2022',\n",
              "  'name': 'sprite',\n",
              "  'price': 20,\n",
              "  'quantity': 20},\n",
              " '118': {' manufacturing date ': '02-07-2020',\n",
              "  'expiry': '27-12-2022',\n",
              "  'name': 'lassi',\n",
              "  'price': 12,\n",
              "  'quantity': 30},\n",
              " '119': {' manufacturing date ': '09-08-2019',\n",
              "  'expiry': '23-12-2022',\n",
              "  'name': 'dairymilk',\n",
              "  'price': 10,\n",
              "  'quantity': 50},\n",
              " '120': {' manufacturing date': '02-02-2019',\n",
              "  'expiry': '23-12-2022',\n",
              "  'name': 'red label',\n",
              "  'price': 20,\n",
              "  'quantity': 25},\n",
              " '121': {' manufacturing date ': '09-05-2019',\n",
              "  'expiry': '28-12-2022',\n",
              "  'name': 'santoor',\n",
              "  'price': 50,\n",
              "  'quantity': 20},\n",
              " '122': {' manufacturing date': '09-08-2019',\n",
              "  'expiry': '11-12-2022',\n",
              "  'name': 'badam shake',\n",
              "  'price': 20,\n",
              "  'quantity': 40},\n",
              " '123': {' manufacturing date ': '01-02-2018',\n",
              "  'expiry': '08-12-2022',\n",
              "  'name': 'shampoo',\n",
              "  'price': 15,\n",
              "  'quantity': 18},\n",
              " '124': {' manufacturing date ': '09-08-2021',\n",
              "  'expiry': '10-08-202',\n",
              "  'name': 'milk',\n",
              "  'price': 20,\n",
              "  'quantity': 10},\n",
              " '125': {' manufacturing date ': '01-02-2019',\n",
              "  'expiry': '04-12-2022',\n",
              "  'name': 'mayonnaise',\n",
              "  'price': 35,\n",
              "  'quantity': 40},\n",
              " '126': {' manufacturing date ': '02-04-2021',\n",
              "  'expiry': '17-12-2022',\n",
              "  'name': 'tomato sauce',\n",
              "  'price': 15,\n",
              "  'quantity': 17},\n",
              " '127': {'expiry': '15-12-2022',\n",
              "  'manufacturing date': '01-02-2021',\n",
              "  'name': 'hair conditioner',\n",
              "  'price': 60,\n",
              "  'quantity': 30},\n",
              " '128': {'expiry': '14-12-2022',\n",
              "  'manufacturing date': '02-02-2020',\n",
              "  'name': 'hairoil',\n",
              "  'price': 20,\n",
              "  'quantity': 9},\n",
              " '129': {'expiry': '21-12-2022',\n",
              "  'manufacturing date': '09-09-2020',\n",
              "  'name': 'eveready cell',\n",
              "  'price': 30,\n",
              "  'quantity': 12},\n",
              " '130': {'expiry': '08-12-2022',\n",
              "  'manufacturing date': '09-03-2020',\n",
              "  'name': 'goodday biscuit',\n",
              "  'price': 15,\n",
              "  'quantity': 12},\n",
              " '131': {'expiry': '19-12-2022',\n",
              "  'manufacturing date': '09-08-2021',\n",
              "  'name': 'frooti',\n",
              "  'price': 10,\n",
              "  'quantity': 16},\n",
              " '132': {'manufacturing_date': '09-08-2020',\n",
              "  'name': 'parle g',\n",
              "  'price': 5,\n",
              "  'quantity': 7},\n",
              " '133': {'expiry': '30-12-2022',\n",
              "  'manufacturing date': '02-04-2020',\n",
              "  'name': 'mango pickle',\n",
              "  'price': 20,\n",
              "  'quantity': 5},\n",
              " '134': {' manufacturing date ': '01-02-2020',\n",
              "  'expiry': '31-12-2022',\n",
              "  'name': 'lolipop',\n",
              "  'price': 2,\n",
              "  'quantity': 100},\n",
              " '135': {' manufacturing date ': '01-02-2019',\n",
              "  'expiry': '23-12-2022',\n",
              "  'name': 'cake',\n",
              "  'price': 10,\n",
              "  'quantity': 12},\n",
              " '136': {' manufacturing date ': '01-02-2020',\n",
              "  'expiry': '28-12-2022',\n",
              "  'name': 'thumsup',\n",
              "  'price': 30,\n",
              "  'quantity': 8},\n",
              " '137': {'expiry': '27-12-2022',\n",
              "  'manufacturing date': '09-08-2021',\n",
              "  'name': 'gems',\n",
              "  'price': 5,\n",
              "  'quantity': 10},\n",
              " '138': {' manufacturing date ': '01-02-2020',\n",
              "  'expiry': '19-12-2022',\n",
              "  'name': 'coffee',\n",
              "  'price': 10,\n",
              "  'quantity': 20},\n",
              " '139': {' manufacturing date ': '09-04-2020',\n",
              "  'expiry': '20-12-2022',\n",
              "  'name': 'tea',\n",
              "  'price': 10,\n",
              "  'quantity': 40},\n",
              " '140': {' manufacturing date ': '09-08-2020',\n",
              "  'expiry': '01-12-2022',\n",
              "  'name': 'soanpapdi',\n",
              "  'price': 30,\n",
              "  'quantity': 4}}"
            ]
          },
          "metadata": {},
          "execution_count": 26
        }
      ]
    },
    {
      "cell_type": "code",
      "metadata": {
        "id": "-elFdkJwe6Xx"
      },
      "source": [
        "del kirana['132']"
      ],
      "execution_count": null,
      "outputs": []
    },
    {
      "cell_type": "code",
      "metadata": {
        "id": "LzXyxO91e6X2",
        "outputId": "cec1b355-f46c-40d8-9614-2538f36636b5"
      },
      "source": [
        "kirana"
      ],
      "execution_count": null,
      "outputs": [
        {
          "data": {
            "text/plain": [
              "{'1001': {'name': 'Petrolleum Jelly',\n",
              "  'price': 20,\n",
              "  'quantity': 50,\n",
              "  'brand': 'Vaseline',\n",
              "  'expiry': '01-10-2022'},\n",
              " '1002': {'name': 'Coconut Oil ',\n",
              "  'price': 50,\n",
              "  'quantity': 40,\n",
              "  'brand': 'parachute',\n",
              "  'expiry': '1-12-2023'},\n",
              " '1003': {'name': 'Noodles',\n",
              "  'price': 60,\n",
              "  'quantity': 40,\n",
              "  'brand': 'maggie',\n",
              "  'expiry': '1-12-2022'},\n",
              " '1004': {'name': 'Deodrant',\n",
              "  'price': 40,\n",
              "  'quantity': 100,\n",
              "  'brand': 'Axe',\n",
              "  'expiry': '2-12-2022'},\n",
              " '1005': {'name': 'Deodrant',\n",
              "  'price': 100,\n",
              "  'quantity': 60,\n",
              "  'brand': 'fogg',\n",
              "  'expiry': '2-12-2022'},\n",
              " '1006': {'name': 'Deodrant',\n",
              "  'price': 150,\n",
              "  'quantity': 134,\n",
              "  'brand': 'Eva',\n",
              "  'expiry': '2-12-2022'},\n",
              " '1007': {'name': 'Chocolate',\n",
              "  'price': 120,\n",
              "  'quantity': 20,\n",
              "  'brand': 'Dairy Milk',\n",
              "  'expiry': '7-12-2022'},\n",
              " '1008': {'name': 'Halke Fulke',\n",
              "  'price': 15,\n",
              "  'quantity': 130,\n",
              "  'brand': 'Halke fulke',\n",
              "  'expiry': '2-12-2022'},\n",
              " '1009': {'name': 'Chocolate',\n",
              "  'price': 10,\n",
              "  'quantity': 17,\n",
              "  'brand': 'Kitkat',\n",
              "  'expiry': '3-12-2022'},\n",
              " '1010': {'name': 'Detergent',\n",
              "  'price': 120,\n",
              "  'quantity': 125,\n",
              "  'brand': 'Tide',\n",
              "  'expiry': '2-12-2022'},\n",
              " '1011': {'name': 'Detergent',\n",
              "  'price': 51,\n",
              "  'quantity': 130,\n",
              "  'brand': 'Rin',\n",
              "  'expiry': '8-12-2022'},\n",
              " '1012': {'name': 'Coffee',\n",
              "  'price': 120,\n",
              "  'quantity': 140,\n",
              "  'brand': 'BruGold',\n",
              "  'expiry': '1-12-2022'},\n",
              " '1013': {'name': 'Coffee',\n",
              "  'price': 115,\n",
              "  'quantity': 118,\n",
              "  'brand': 'Nescafe',\n",
              "  'expiry': '18-12-2022'},\n",
              " '1014': {'name': 'Shampoo',\n",
              "  'price': 125,\n",
              "  'quantity': 110,\n",
              "  'brand': 'dove',\n",
              "  'expiry': '17-12-2022'},\n",
              " '1015': {'name': 'Shampoo',\n",
              "  'price': 140,\n",
              "  'quantity': 18,\n",
              "  'brand': 'Sunsilk',\n",
              "  'expiry': '14-12-2022'},\n",
              " '1016': {'name': 'Shampoo',\n",
              "  'price': 140,\n",
              "  'quantity': 17,\n",
              "  'brand': 'Head & Shoulders',\n",
              "  'expiry': '7-12-2022'},\n",
              " '1017': {'name': 'Potato Chips',\n",
              "  'price': 60,\n",
              "  'quantity': 3,\n",
              "  'brand': 'lays',\n",
              "  'expiry': '1-12-2022'},\n",
              " '1018': {'name': 'Potato Chips',\n",
              "  'price': 40,\n",
              "  'quantity': 9,\n",
              "  'brand': 'Balaji',\n",
              "  'expiry': '4-12-2022'},\n",
              " '1019': {'name': 'Cold Drink',\n",
              "  'price': 30,\n",
              "  'quantity': 12,\n",
              "  'brand': 'Sprite',\n",
              "  'expiry': '1-12-2022'},\n",
              " '1020': {'name': 'Cold Drink',\n",
              "  'price': 15,\n",
              "  'quantity': 12,\n",
              "  'brand': 'Coco-Cola',\n",
              "  'expiry': '28-12-2022'},\n",
              " '1021': {'name': 'Cold Drink',\n",
              "  'price': 10,\n",
              "  'quantity': 16,\n",
              "  'brand': 'frooti',\n",
              "  'expiry': '9-12-2022'},\n",
              " '1022': {'name': 'Amla Hair Oil',\n",
              "  'price': 1,\n",
              "  'quantity': 100,\n",
              "  'brand': 'Dabur',\n",
              "  'expiry': '29-12-2022'},\n",
              " '1023': {'name': 'Gulab Jamun',\n",
              "  'price': 20,\n",
              "  'quantity': 5,\n",
              "  'brand': 'Haldirams',\n",
              "  'expiry': '10-12-2022'},\n",
              " '1024': {'name': 'Chewing Gum',\n",
              "  'price': 20,\n",
              "  'quantity': 100,\n",
              "  'brand': 'Boomer',\n",
              "  'expiry': '1-12-2022'},\n",
              " '1025': {'name': 'Chewing Gun',\n",
              "  'price': 10,\n",
              "  'quantity': 12,\n",
              "  'brand': 'Center fresh',\n",
              "  'expiry': '3-12-2022'},\n",
              " '1026': {'name': 'Chewing Gum',\n",
              "  'price': 30,\n",
              "  'quantity': 8,\n",
              "  'brand': 'Centre fruit',\n",
              "  'expiry': '2-12-2022'},\n",
              " '1027': {'name': 'Razor',\n",
              "  'price': 5,\n",
              "  'quantity': 10,\n",
              "  'brand': 'Gillete Guard',\n",
              "  'expiry': '7-12-2022'},\n",
              " '1028': {'name': 'Razor',\n",
              "  'price': 10,\n",
              "  'quantity': 20,\n",
              "  'brand': 'Venus',\n",
              "  'expiry': '9-12-2022'},\n",
              " '1029': {'name': 'Salt',\n",
              "  'price': 10,\n",
              "  'quantity': 40,\n",
              "  'brand': 'Tata',\n",
              "  'expiry': '2-12-2022'},\n",
              " '1030': {'name': 'Salt',\n",
              "  'price': 30,\n",
              "  'quantity': 4,\n",
              "  'brand': 'Patanjali',\n",
              "  'expiry': '12-12-2022'},\n",
              " '1031': {'name': 'Biscuit',\n",
              "  'brand': 'Oreo',\n",
              "  'price': 20,\n",
              "  'quantity': 12,\n",
              "  'expiry': '1-12-2021'}}"
            ]
          },
          "execution_count": 13,
          "metadata": {},
          "output_type": "execute_result"
        }
      ]
    },
    {
      "cell_type": "code",
      "metadata": {
        "id": "llHZAOjQe6X4"
      },
      "source": [
        ""
      ],
      "execution_count": null,
      "outputs": []
    }
  ]
}