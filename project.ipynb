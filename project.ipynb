{
  "nbformat": 4,
  "nbformat_minor": 0,
  "metadata": {
    "interpreter": {
      "hash": "b3ba2566441a7c06988d0923437866b63cedc61552a5af99d1f4fb67d367b25f"
    },
    "kernelspec": {
      "display_name": "Python 3",
      "language": "python",
      "name": "python3"
    },
    "language_info": {
      "codemirror_mode": {
        "name": "ipython",
        "version": 3
      },
      "file_extension": ".py",
      "mimetype": "text/x-python",
      "name": "python",
      "nbconvert_exporter": "python",
      "pygments_lexer": "ipython3",
      "version": "3.8.5"
    },
    "colab": {
      "name": "project.ipynb",
      "provenance": [],
      "collapsed_sections": []
    }
  },
  "cells": [
    {
      "cell_type": "markdown",
      "metadata": {
        "id": "j77AtjdOe6Pz"
      },
      "source": [
        "# importing file and some operations"
      ]
    },
    {
      "cell_type": "code",
      "metadata": {
        "id": "Mskpt0LJe6WP"
      },
      "source": [
        "import json\n",
        "\n",
        "fd = open(\"sastagrocery.json\",'r')\n",
        "r = fd.read()\n",
        "fd.close()\n",
        "\n",
        "sastagrocery = json.loads(r)"
      ],
      "execution_count": 1,
      "outputs": []
    },
    {
      "cell_type": "code",
      "metadata": {
        "colab": {
          "base_uri": "https://localhost:8080/"
        },
        "id": "ATuHZpGae6WR",
        "outputId": "6f817e7f-0f2f-469a-a2d1-30313e6f954a"
      },
      "source": [
        "sastagrocery"
      ],
      "execution_count": 2,
      "outputs": [
        {
          "output_type": "execute_result",
          "data": {
            "text/plain": [
              "{'01': {'expiry': '06-09-2021',\n",
              "  'name': 'Tomatoes',\n",
              "  'price': 20,\n",
              "  'quantity': 5},\n",
              " '02': {'expiry': '06-09-2021', 'name': 'Potato', 'price': 25, 'quantity': 5},\n",
              " '03': {'expiry': '06-09-2021',\n",
              "  'name': 'Cauliflower',\n",
              "  'price': 30,\n",
              "  'quantity': 1},\n",
              " '04': {'expiry': '06-09-2021', 'name': 'Cabbage', 'price': 30, 'quantity': 1},\n",
              " '05': {'expiry': '06-09-2021',\n",
              "  'name': 'Lady Finger',\n",
              "  'price': 20,\n",
              "  'quantity': 16},\n",
              " '06': {'expiry': '06-09-2021', 'name': 'Pumpkin', 'price': 35, 'quantity': 1},\n",
              " '07': {'expiry': '06-09-2021', 'name': 'Raddish', 'price': 20, 'quantity': 5},\n",
              " '08': {'expiry': '06-09-2021', 'name': 'Carrot', 'price': 30, 'quantity': 7},\n",
              " '09': {'expiry': '06-09-2021',\n",
              "  'name': 'Cucumber',\n",
              "  'price': 15,\n",
              "  'quantity': 4},\n",
              " '10': {'expiry': '06-09-2021',\n",
              "  'name': 'Bitterjourd',\n",
              "  'price': 10,\n",
              "  'quantity': 5},\n",
              " '11': {'expiry': '06-09-2021',\n",
              "  'name': 'French Beans',\n",
              "  'price': 25,\n",
              "  'quantity': 18},\n",
              " '12': {'expiry': '06-09-2021', 'name': 'Spinach', 'price': 30, 'quantity': 8},\n",
              " '13': {'expiry': '06-09-2021',\n",
              "  'name': 'Strawberry',\n",
              "  'price': 50,\n",
              "  'quantity': 6},\n",
              " '14': {'expiry': '06-09-2021', 'name': 'Mango', 'price': 40, 'quantity': 4},\n",
              " '15': {'expiry': '06-09-2021',\n",
              "  'name': 'Raw Mango',\n",
              "  'price': 35,\n",
              "  'quantity': 5},\n",
              " '16': {'expiry': '06-09-2021', 'name': 'Corn', 'price': 40, 'quantity': 5},\n",
              " '17': {'expiry': '06-09-2021',\n",
              "  'name': 'Sweet Corn',\n",
              "  'price': 50,\n",
              "  'quantity': 5},\n",
              " '18': {'expiry': '06-09-2021', 'name': 'Onion', 'price': 100, 'quantity': 15},\n",
              " '19': {'expiry': '06-09-2021',\n",
              "  'name': 'Green Peas',\n",
              "  'price': 20,\n",
              "  'quantity': 5},\n",
              " '20': {'expiry': '06-09-2021', 'name': 'Papaya', 'price': 35, 'quantity': 5},\n",
              " '21': {'expiry': '06-09-2021', 'name': 'Apple', 'price': 100, 'quantity': 10},\n",
              " '22': {'expiry': '06-09-2021', 'name': 'Banana', 'price': 50, 'quantity': 12},\n",
              " '23': {'expiry': '06-09-2021',\n",
              "  'name': 'Pomogrenete',\n",
              "  'price': 40,\n",
              "  'quantity': 3},\n",
              " '24': {'expiry': '06-09-2021',\n",
              "  'name': 'Pineapple',\n",
              "  'price': 30,\n",
              "  'quantity': 1},\n",
              " '25': {'expiry': '06-09-2021',\n",
              "  'name': 'Cherry',\n",
              "  'price': 100,\n",
              "  'quantity': 16},\n",
              " '26': {'expiry': '06-09-2021', 'name': 'Brinjal', 'price': 30, 'quantity': 6},\n",
              " '27': {'expiry': '06-09-2021', 'name': '', 'price': 20, 'quantity': 5},\n",
              " '28': {'expiry': '06-09-2021', 'name': 'Guava', 'price': 70, 'quantity': 2},\n",
              " '29': {'expiry': '06-09-2021', 'name': 'Lemon', 'price': 10, 'quantity': 3},\n",
              " '30': {'expiry': '06-09-2021',\n",
              "  'name': 'Green Chilli',\n",
              "  'price': 10,\n",
              "  'quantity': 6}}"
            ]
          },
          "metadata": {},
          "execution_count": 2
        }
      ]
    },
    {
      "cell_type": "markdown",
      "metadata": {
        "id": "Yw3T5Q65e6We"
      },
      "source": [
        "# Buy"
      ]
    },
    {
      "cell_type": "code",
      "metadata": {
        "colab": {
          "base_uri": "https://localhost:8080/"
        },
        "id": "YCmmJOCKe6Wi",
        "outputId": "aaaa1c21-7504-4673-af21-1b974952dd54"
      },
      "source": [
        "ui_prod  = str(input(\"Enter the product_Id: \"))\n",
        "ui_quant = int(input(\"Enter the quantity: \"))\n",
        "\n",
        "print(\"Product: \", sastagrocery[ui_prod]['name'])\n",
        "print(\"Price: \", sastagrocery[ui_prod]['price'])\n",
        "print(\"Expiry Date\", sastagrocery[ui_prod]['expiry'])\n",
        "print(\"Billing Amount: \", sastagrocery[ui_prod]['price'] * ui_quant)\n",
        "\n",
        "sastagrocery[ui_prod]['quantity'] = sastagrocery[ui_prod]['quantity'] - ui_quant"
      ],
      "execution_count": 5,
      "outputs": [
        {
          "output_type": "stream",
          "name": "stdout",
          "text": [
            "Enter the product_Id: 04\n",
            "Enter the quantity: 1\n",
            "Product:  Cabbage\n",
            "Price:  30\n",
            "Expiry Date 06-09-2021\n",
            "Billing Amount:  30\n"
          ]
        }
      ]
    },
    {
      "cell_type": "code",
      "metadata": {
        "id": "eWlLWvl-e6Wl"
      },
      "source": [
        "js = json.dumps(sastagrocery)\n",
        "\n",
        "fd = open(\"sastagrocery.json\",'w')\n",
        "fd.write(js)\n",
        "fd.close()"
      ],
      "execution_count": null,
      "outputs": []
    },
    {
      "cell_type": "markdown",
      "metadata": {
        "id": "hjkqAQENe6Wm"
      },
      "source": [
        "# Sale"
      ]
    },
    {
      "cell_type": "code",
      "metadata": {
        "colab": {
          "base_uri": "https://localhost:8080/"
        },
        "id": "69tki2i2e6Wt",
        "outputId": "631b7608-68d5-4475-cdd9-02184b8ff64c"
      },
      "source": [
        "{'name' : ui_prod, 'quantity' : ui_quant, 'amount': sastagrocery[ui_prod]['price'] * ui_quant}"
      ],
      "execution_count": 6,
      "outputs": [
        {
          "output_type": "execute_result",
          "data": {
            "text/plain": [
              "{'amount': 30, 'name': '04', 'quantity': 1}"
            ]
          },
          "metadata": {},
          "execution_count": 6
        }
      ]
    },
    {
      "cell_type": "code",
      "metadata": {
        "id": "XfGRAHdBe6Wx"
      },
      "source": [
        "sales = {1 : {'name' : ui_prod, 'quantity' : ui_quant, 'amount': sastagrocery[ui_prod]['price'] * ui_quant},\n",
        "         2 : {'name' : ui_prod, 'quantity' : ui_quant, 'amount': sastagrocery[ui_prod]['price'] * ui_quant},\n",
        "         3 : {'name' : ui_prod, 'quantity' : ui_quant, 'amount': sastagrocery[ui_prod]['price'] * ui_quant}}"
      ],
      "execution_count": 8,
      "outputs": []
    },
    {
      "cell_type": "code",
      "metadata": {
        "id": "Q9ugT52xe6W0"
      },
      "source": [
        "sale = json.dumps(sales)"
      ],
      "execution_count": 9,
      "outputs": []
    },
    {
      "cell_type": "code",
      "metadata": {
        "colab": {
          "base_uri": "https://localhost:8080/",
          "height": 52
        },
        "id": "YoJawxO6e6W3",
        "outputId": "16e6fa4c-610f-479d-8f17-bf1124ffcbc3"
      },
      "source": [
        "sale"
      ],
      "execution_count": 10,
      "outputs": [
        {
          "output_type": "execute_result",
          "data": {
            "application/vnd.google.colaboratory.intrinsic+json": {
              "type": "string"
            },
            "text/plain": [
              "'{\"1\": {\"name\": \"04\", \"quantity\": 1, \"amount\": 30}, \"2\": {\"name\": \"04\", \"quantity\": 1, \"amount\": 30}, \"3\": {\"name\": \"04\", \"quantity\": 1, \"amount\": 30}}'"
            ]
          },
          "metadata": {},
          "execution_count": 10
        }
      ]
    },
    {
      "cell_type": "markdown",
      "metadata": {
        "id": "i5RYWavWe6Xh"
      },
      "source": [
        "# Add New Item into sastagrocery"
      ]
    },
    {
      "cell_type": "code",
      "metadata": {
        "id": "T_TcPLGHe6Xj"
      },
      "source": [
        "prod_id = str(input(\"Enter product id:\"))\n",
        "name = str(input(\"Enter name:\"))\n",
        "price = int(input(\"Enter price:\"))\n",
        "quantity = int(input(\"Enter quantity:\"))\n",
        "expiry = int(input(\"Enter expiry date:\"))\n",
        "\n",
        "sastagrocery[prod_id] = {'name': name, 'price': price, 'quantity': quantity, 'expiry': expiry}\n",
        "\n",
        "js = json.dumps(sastagrocery)\n",
        "\n",
        "fd = open(\"sastagrocery.json\",'w')\n",
        "fd.write(js)\n",
        "fd.close()"
      ],
      "execution_count": null,
      "outputs": []
    },
    {
      "cell_type": "code",
      "metadata": {
        "id": "CewlRvaBe6Xo",
        "outputId": "51fdffc1-abac-4066-bc65-63a6d3e0cca1"
      },
      "source": [
        "sastagrocery"
      ],
      "execution_count": null,
      "outputs": [
        {
          "data": {
            "text/plain": [
              "{'1001': {'name': 'Petrolleum Jelly',\n",
              "  'price': 20,\n",
              "  'quantity': 50,\n",
              "  'brand': 'Vaseline',\n",
              "  'expiry': '01-10-2022'},\n",
              " '1002': {'name': 'Coconut Oil ',\n",
              "  'price': 50,\n",
              "  'quantity': 40,\n",
              "  'brand': 'parachute',\n",
              "  'expiry': '1-12-2023'},\n",
              " '1003': {'name': 'Noodles',\n",
              "  'price': 60,\n",
              "  'quantity': 40,\n",
              "  'brand': 'maggie',\n",
              "  'expiry': '1-12-2022'},\n",
              " '1004': {'name': 'Deodrant',\n",
              "  'price': 40,\n",
              "  'quantity': 100,\n",
              "  'brand': 'Axe',\n",
              "  'expiry': '2-12-2022'},\n",
              " '1005': {'name': 'Deodrant',\n",
              "  'price': 100,\n",
              "  'quantity': 60,\n",
              "  'brand': 'fogg',\n",
              "  'expiry': '2-12-2022'},\n",
              " '1006': {'name': 'Deodrant',\n",
              "  'price': 150,\n",
              "  'quantity': 134,\n",
              "  'brand': 'Eva',\n",
              "  'expiry': '2-12-2022'},\n",
              " '1007': {'name': 'Chocolate',\n",
              "  'price': 120,\n",
              "  'quantity': 20,\n",
              "  'brand': 'Dairy Milk',\n",
              "  'expiry': '7-12-2022'},\n",
              " '1008': {'name': 'Halke Fulke',\n",
              "  'price': 15,\n",
              "  'quantity': 130,\n",
              "  'brand': 'Halke fulke',\n",
              "  'expiry': '2-12-2022'},\n",
              " '1009': {'name': 'Chocolate',\n",
              "  'price': 10,\n",
              "  'quantity': 17,\n",
              "  'brand': 'Kitkat',\n",
              "  'expiry': '3-12-2022'},\n",
              " '1010': {'name': 'Detergent',\n",
              "  'price': 120,\n",
              "  'quantity': 125,\n",
              "  'brand': 'Tide',\n",
              "  'expiry': '2-12-2022'},\n",
              " '1011': {'name': 'Detergent',\n",
              "  'price': 51,\n",
              "  'quantity': 130,\n",
              "  'brand': 'Rin',\n",
              "  'expiry': '8-12-2022'},\n",
              " '1012': {'name': 'Coffee',\n",
              "  'price': 120,\n",
              "  'quantity': 140,\n",
              "  'brand': 'BruGold',\n",
              "  'expiry': '1-12-2022'},\n",
              " '1013': {'name': 'Coffee',\n",
              "  'price': 115,\n",
              "  'quantity': 118,\n",
              "  'brand': 'Nescafe',\n",
              "  'expiry': '18-12-2022'},\n",
              " '1014': {'name': 'Shampoo',\n",
              "  'price': 125,\n",
              "  'quantity': 110,\n",
              "  'brand': 'dove',\n",
              "  'expiry': '17-12-2022'},\n",
              " '1015': {'name': 'Shampoo',\n",
              "  'price': 140,\n",
              "  'quantity': 18,\n",
              "  'brand': 'Sunsilk',\n",
              "  'expiry': '14-12-2022'},\n",
              " '1016': {'name': 'Shampoo',\n",
              "  'price': 140,\n",
              "  'quantity': 17,\n",
              "  'brand': 'Head & Shoulders',\n",
              "  'expiry': '7-12-2022'},\n",
              " '1017': {'name': 'Potato Chips',\n",
              "  'price': 60,\n",
              "  'quantity': 3,\n",
              "  'brand': 'lays',\n",
              "  'expiry': '1-12-2022'},\n",
              " '1018': {'name': 'Potato Chips',\n",
              "  'price': 40,\n",
              "  'quantity': 9,\n",
              "  'brand': 'Balaji',\n",
              "  'expiry': '4-12-2022'},\n",
              " '1019': {'name': 'Cold Drink',\n",
              "  'price': 30,\n",
              "  'quantity': 12,\n",
              "  'brand': 'Sprite',\n",
              "  'expiry': '1-12-2022'},\n",
              " '1020': {'name': 'Cold Drink',\n",
              "  'price': 15,\n",
              "  'quantity': 12,\n",
              "  'brand': 'Coco-Cola',\n",
              "  'expiry': '28-12-2022'},\n",
              " '1021': {'name': 'Cold Drink',\n",
              "  'price': 10,\n",
              "  'quantity': 16,\n",
              "  'brand': 'frooti',\n",
              "  'expiry': '9-12-2022'},\n",
              " '1022': {'name': 'Amla Hair Oil',\n",
              "  'price': 1,\n",
              "  'quantity': 100,\n",
              "  'brand': 'Dabur',\n",
              "  'expiry': '29-12-2022'},\n",
              " '1023': {'name': 'Gulab Jamun',\n",
              "  'price': 20,\n",
              "  'quantity': 5,\n",
              "  'brand': 'Haldirams',\n",
              "  'expiry': '10-12-2022'},\n",
              " '1024': {'name': 'Chewing Gum',\n",
              "  'price': 20,\n",
              "  'quantity': 100,\n",
              "  'brand': 'Boomer',\n",
              "  'expiry': '1-12-2022'},\n",
              " '1025': {'name': 'Chewing Gun',\n",
              "  'price': 10,\n",
              "  'quantity': 12,\n",
              "  'brand': 'Center fresh',\n",
              "  'expiry': '3-12-2022'},\n",
              " '1026': {'name': 'Chewing Gum',\n",
              "  'price': 30,\n",
              "  'quantity': 8,\n",
              "  'brand': 'Centre fruit',\n",
              "  'expiry': '2-12-2022'},\n",
              " '1027': {'name': 'Razor',\n",
              "  'price': 5,\n",
              "  'quantity': 10,\n",
              "  'brand': 'Gillete Guard',\n",
              "  'expiry': '7-12-2022'},\n",
              " '1028': {'name': 'Razor',\n",
              "  'price': 10,\n",
              "  'quantity': 20,\n",
              "  'brand': 'Venus',\n",
              "  'expiry': '9-12-2022'},\n",
              " '1029': {'name': 'Salt',\n",
              "  'price': 10,\n",
              "  'quantity': 40,\n",
              "  'brand': 'Tata',\n",
              "  'expiry': '2-12-2022'},\n",
              " '1030': {'name': 'Salt',\n",
              "  'price': 30,\n",
              "  'quantity': 4,\n",
              "  'brand': 'Patanjali',\n",
              "  'expiry': '12-12-2022'},\n",
              " '1031': {'name': 'Biscuit',\n",
              "  'brand': 'Oreo',\n",
              "  'price': 20,\n",
              "  'quantity': 12,\n",
              "  'expiry': '1-12-2021'},\n",
              " '10032': {'name': 'elephant', 'price': 40, 'quantity': 3, 'brand': 'fish'}}"
            ]
          },
          "execution_count": 11,
          "metadata": {},
          "output_type": "execute_result"
        }
      ]
    },
    {
      "cell_type": "code",
      "metadata": {
        "id": "-elFdkJwe6Xx"
      },
      "source": [
        "del sastagrocery['10032']"
      ],
      "execution_count": null,
      "outputs": []
    },
    {
      "cell_type": "code",
      "metadata": {
        "id": "LzXyxO91e6X2",
        "outputId": "cec1b355-f46c-40d8-9614-2538f36636b5"
      },
      "source": [
        "sastagrocery"
      ],
      "execution_count": null,
      "outputs": [
        {
          "data": {
            "text/plain": [
              "{'1001': {'name': 'Petrolleum Jelly',\n",
              "  'price': 20,\n",
              "  'quantity': 50,\n",
              "  'brand': 'Vaseline',\n",
              "  'expiry': '01-10-2022'},\n",
              " '1002': {'name': 'Coconut Oil ',\n",
              "  'price': 50,\n",
              "  'quantity': 40,\n",
              "  'brand': 'parachute',\n",
              "  'expiry': '1-12-2023'},\n",
              " '1003': {'name': 'Noodles',\n",
              "  'price': 60,\n",
              "  'quantity': 40,\n",
              "  'brand': 'maggie',\n",
              "  'expiry': '1-12-2022'},\n",
              " '1004': {'name': 'Deodrant',\n",
              "  'price': 40,\n",
              "  'quantity': 100,\n",
              "  'brand': 'Axe',\n",
              "  'expiry': '2-12-2022'},\n",
              " '1005': {'name': 'Deodrant',\n",
              "  'price': 100,\n",
              "  'quantity': 60,\n",
              "  'brand': 'fogg',\n",
              "  'expiry': '2-12-2022'},\n",
              " '1006': {'name': 'Deodrant',\n",
              "  'price': 150,\n",
              "  'quantity': 134,\n",
              "  'brand': 'Eva',\n",
              "  'expiry': '2-12-2022'},\n",
              " '1007': {'name': 'Chocolate',\n",
              "  'price': 120,\n",
              "  'quantity': 20,\n",
              "  'brand': 'Dairy Milk',\n",
              "  'expiry': '7-12-2022'},\n",
              " '1008': {'name': 'Halke Fulke',\n",
              "  'price': 15,\n",
              "  'quantity': 130,\n",
              "  'brand': 'Halke fulke',\n",
              "  'expiry': '2-12-2022'},\n",
              " '1009': {'name': 'Chocolate',\n",
              "  'price': 10,\n",
              "  'quantity': 17,\n",
              "  'brand': 'Kitkat',\n",
              "  'expiry': '3-12-2022'},\n",
              " '1010': {'name': 'Detergent',\n",
              "  'price': 120,\n",
              "  'quantity': 125,\n",
              "  'brand': 'Tide',\n",
              "  'expiry': '2-12-2022'},\n",
              " '1011': {'name': 'Detergent',\n",
              "  'price': 51,\n",
              "  'quantity': 130,\n",
              "  'brand': 'Rin',\n",
              "  'expiry': '8-12-2022'},\n",
              " '1012': {'name': 'Coffee',\n",
              "  'price': 120,\n",
              "  'quantity': 140,\n",
              "  'brand': 'BruGold',\n",
              "  'expiry': '1-12-2022'},\n",
              " '1013': {'name': 'Coffee',\n",
              "  'price': 115,\n",
              "  'quantity': 118,\n",
              "  'brand': 'Nescafe',\n",
              "  'expiry': '18-12-2022'},\n",
              " '1014': {'name': 'Shampoo',\n",
              "  'price': 125,\n",
              "  'quantity': 110,\n",
              "  'brand': 'dove',\n",
              "  'expiry': '17-12-2022'},\n",
              " '1015': {'name': 'Shampoo',\n",
              "  'price': 140,\n",
              "  'quantity': 18,\n",
              "  'brand': 'Sunsilk',\n",
              "  'expiry': '14-12-2022'},\n",
              " '1016': {'name': 'Shampoo',\n",
              "  'price': 140,\n",
              "  'quantity': 17,\n",
              "  'brand': 'Head & Shoulders',\n",
              "  'expiry': '7-12-2022'},\n",
              " '1017': {'name': 'Potato Chips',\n",
              "  'price': 60,\n",
              "  'quantity': 3,\n",
              "  'brand': 'lays',\n",
              "  'expiry': '1-12-2022'},\n",
              " '1018': {'name': 'Potato Chips',\n",
              "  'price': 40,\n",
              "  'quantity': 9,\n",
              "  'brand': 'Balaji',\n",
              "  'expiry': '4-12-2022'},\n",
              " '1019': {'name': 'Cold Drink',\n",
              "  'price': 30,\n",
              "  'quantity': 12,\n",
              "  'brand': 'Sprite',\n",
              "  'expiry': '1-12-2022'},\n",
              " '1020': {'name': 'Cold Drink',\n",
              "  'price': 15,\n",
              "  'quantity': 12,\n",
              "  'brand': 'Coco-Cola',\n",
              "  'expiry': '28-12-2022'},\n",
              " '1021': {'name': 'Cold Drink',\n",
              "  'price': 10,\n",
              "  'quantity': 16,\n",
              "  'brand': 'frooti',\n",
              "  'expiry': '9-12-2022'},\n",
              " '1022': {'name': 'Amla Hair Oil',\n",
              "  'price': 1,\n",
              "  'quantity': 100,\n",
              "  'brand': 'Dabur',\n",
              "  'expiry': '29-12-2022'},\n",
              " '1023': {'name': 'Gulab Jamun',\n",
              "  'price': 20,\n",
              "  'quantity': 5,\n",
              "  'brand': 'Haldirams',\n",
              "  'expiry': '10-12-2022'},\n",
              " '1024': {'name': 'Chewing Gum',\n",
              "  'price': 20,\n",
              "  'quantity': 100,\n",
              "  'brand': 'Boomer',\n",
              "  'expiry': '1-12-2022'},\n",
              " '1025': {'name': 'Chewing Gun',\n",
              "  'price': 10,\n",
              "  'quantity': 12,\n",
              "  'brand': 'Center fresh',\n",
              "  'expiry': '3-12-2022'},\n",
              " '1026': {'name': 'Chewing Gum',\n",
              "  'price': 30,\n",
              "  'quantity': 8,\n",
              "  'brand': 'Centre fruit',\n",
              "  'expiry': '2-12-2022'},\n",
              " '1027': {'name': 'Razor',\n",
              "  'price': 5,\n",
              "  'quantity': 10,\n",
              "  'brand': 'Gillete Guard',\n",
              "  'expiry': '7-12-2022'},\n",
              " '1028': {'name': 'Razor',\n",
              "  'price': 10,\n",
              "  'quantity': 20,\n",
              "  'brand': 'Venus',\n",
              "  'expiry': '9-12-2022'},\n",
              " '1029': {'name': 'Salt',\n",
              "  'price': 10,\n",
              "  'quantity': 40,\n",
              "  'brand': 'Tata',\n",
              "  'expiry': '2-12-2022'},\n",
              " '1030': {'name': 'Salt',\n",
              "  'price': 30,\n",
              "  'quantity': 4,\n",
              "  'brand': 'Patanjali',\n",
              "  'expiry': '12-12-2022'},\n",
              " '1031': {'name': 'Biscuit',\n",
              "  'brand': 'Oreo',\n",
              "  'price': 20,\n",
              "  'quantity': 12,\n",
              "  'expiry': '1-12-2021'}}"
            ]
          },
          "execution_count": 13,
          "metadata": {},
          "output_type": "execute_result"
        }
      ]
    },
    {
      "cell_type": "code",
      "metadata": {
        "id": "llHZAOjQe6X4"
      },
      "source": [
        ""
      ],
      "execution_count": null,
      "outputs": []
    }
  ]
}